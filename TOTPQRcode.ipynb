{
 "cells": [
  {
   "cell_type": "code",
   "execution_count": 1,
   "id": "1e8c822c",
   "metadata": {},
   "outputs": [
    {
     "name": "stdout",
     "output_type": "stream",
     "text": [
      "Requirement already satisfied: pyotp in c:\\users\\e.gevorgyan\\appdata\\local\\anaconda3\\lib\\site-packages (2.9.0)\n",
      "Requirement already satisfied: qrcode[pil] in c:\\users\\e.gevorgyan\\appdata\\local\\anaconda3\\lib\\site-packages (8.2)\n",
      "Requirement already satisfied: colorama in c:\\users\\e.gevorgyan\\appdata\\local\\anaconda3\\lib\\site-packages (from qrcode[pil]) (0.4.6)\n",
      "Requirement already satisfied: pillow>=9.1.0 in c:\\users\\e.gevorgyan\\appdata\\local\\anaconda3\\lib\\site-packages (from qrcode[pil]) (9.4.0)\n",
      "Note: you may need to restart the kernel to use updated packages.\n"
     ]
    }
   ],
   "source": [
    "pip install pyotp qrcode[pil]\n"
   ]
  },
  {
   "cell_type": "code",
   "execution_count": 2,
   "id": "b4cc9aed",
   "metadata": {},
   "outputs": [
    {
     "name": "stdout",
     "output_type": "stream",
     "text": [
      "Ваш секретный ключ: 7HVPYHYUBIF334A5W7E46L5XPMBERCT6\n",
      "QR-код сохранён как 'totp_qr.png'. Отсканируйте его в Google Authenticator.\n",
      "Ваш текущий одноразовый пароль: 304283\n",
      "Введите код из приложения: 788145\n",
      "✅ Код правильный! Доступ разрешён.\n"
     ]
    }
   ],
   "source": [
    "import pyotp\n",
    "import qrcode\n",
    "\n",
    "# 1️⃣ Создаём секретный ключ (он нужен для генерации кодов)\n",
    "secret = pyotp.random_base32()\n",
    "print(\"Ваш секретный ключ:\", secret)\n",
    "\n",
    "# 2️⃣ Создаём TOTP-объект\n",
    "totp = pyotp.TOTP(secret)\n",
    "\n",
    "# 3️⃣ Генерируем ссылку для Authenticator (для QR-кода)\n",
    "uri = totp.provisioning_uri(name=\"Yelena@example.com\", issuer_name=\"MyPythonApp\")\n",
    "\n",
    "# 4️⃣ Создаём QR-код\n",
    "qrcode.make(uri).save(\"totp_qr.png\")\n",
    "print(\"QR-код сохранён как 'totp_qr.png'. Отсканируйте его в Google Authenticator.\")\n",
    "\n",
    "# 5️⃣ Показываем текущий код\n",
    "print(\"Ваш текущий одноразовый пароль:\", totp.now())\n",
    "\n",
    "# 6️⃣ Проверяем введённый код\n",
    "user_code = input(\"Введите код из приложения: \")\n",
    "\n",
    "if totp.verify(user_code):\n",
    "    print(\"✅ Код правильный! Доступ разрешён.\")\n",
    "else:\n",
    "    print(\"❌ Код неверный.\")\n"
   ]
  },
  {
   "cell_type": "code",
   "execution_count": null,
   "id": "496fa5c9",
   "metadata": {},
   "outputs": [],
   "source": []
  }
 ],
 "metadata": {
  "kernelspec": {
   "display_name": "Python 3 (ipykernel)",
   "language": "python",
   "name": "python3"
  },
  "language_info": {
   "codemirror_mode": {
    "name": "ipython",
    "version": 3
   },
   "file_extension": ".py",
   "mimetype": "text/x-python",
   "name": "python",
   "nbconvert_exporter": "python",
   "pygments_lexer": "ipython3",
   "version": "3.11.5"
  }
 },
 "nbformat": 4,
 "nbformat_minor": 5
}
