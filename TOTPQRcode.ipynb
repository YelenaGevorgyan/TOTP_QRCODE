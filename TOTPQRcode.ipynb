{
 "cells": [
  {
   "cell_type": "code",
   "execution_count": 5,
   "id": "fda6e770",
   "metadata": {},
   "outputs": [
    {
     "name": "stdout",
     "output_type": "stream",
     "text": [
      "Requirement already satisfied: pyotp in c:\\users\\e.gevorgyan\\appdata\\local\\anaconda3\\lib\\site-packages (2.9.0)\n",
      "Requirement already satisfied: qrcode[pil] in c:\\users\\e.gevorgyan\\appdata\\local\\anaconda3\\lib\\site-packages (8.2)\n",
      "Requirement already satisfied: colorama in c:\\users\\e.gevorgyan\\appdata\\local\\anaconda3\\lib\\site-packages (from qrcode[pil]) (0.4.6)\n",
      "Requirement already satisfied: pillow>=9.1.0 in c:\\users\\e.gevorgyan\\appdata\\local\\anaconda3\\lib\\site-packages (from qrcode[pil]) (9.4.0)\n",
      "Note: you may need to restart the kernel to use updated packages.\n"
     ]
    }
   ],
   "source": [
    "pip install pyotp qrcode[pil]\n"
   ]
  },
  {
   "cell_type": "code",
   "execution_count": 6,
   "id": "145f6fbe",
   "metadata": {},
   "outputs": [
    {
     "name": "stdout",
     "output_type": "stream",
     "text": [
      "secret key: 6BSOGAQYRT3ESMTOGVVA6ECR6OXBFZXP\n",
      "QR-code saved as'TOTP_qr.png'. Scan it.\n",
      "secret password: 985558\n",
      "Enter the code from the application:213052\n",
      "✅ The code is correct! Access is allowed.\n"
     ]
    }
   ],
   "source": [
    "import pyotp\n",
    "import qrcode\n",
    "\n",
    "# 1️⃣ Создаём секретный ключ (он нужен для генерации кодов)\n",
    "secret = pyotp.random_base32()\n",
    "print(\"secret key:\", secret)\n",
    "\n",
    "# 2️⃣ Создаём TOTP-объект\n",
    "totp = pyotp.TOTP(secret)\n",
    "\n",
    "# 3️⃣ Генерируем ссылку для Authenticator (для QR-кода)\n",
    "uri = totp.provisioning_uri(name=\"Yelena@example.com\", issuer_name=\"MyPythonApp\")\n",
    "\n",
    "# 4️⃣ Создаём QR-код\n",
    "qrcode.make(uri).save(\"totp_qr.png\")\n",
    "print(\"QR-code saved as'TOTP_qr.png'. Scan it.\")\n",
    "\n",
    "# 5️⃣ Показываем текущий код\n",
    "print(\"secret password:\", totp.now())\n",
    "\n",
    "# 6️⃣ Проверяем введённый код\n",
    "user_code = input(\"Enter the code from the application:\")\n",
    "\n",
    "if totp.verify(user_code):\n",
    "    print(\"✅ The code is correct! Access is allowed.\")\n",
    "else:\n",
    "    print(\"❌ The code is incorrect.\")\n"
   ]
  },
  {
   "cell_type": "code",
   "execution_count": null,
   "id": "4704733d",
   "metadata": {},
   "outputs": [],
   "source": []
  }
 ],
 "metadata": {
  "kernelspec": {
   "display_name": "Python 3 (ipykernel)",
   "language": "python",
   "name": "python3"
  },
  "language_info": {
   "codemirror_mode": {
    "name": "ipython",
    "version": 3
   },
   "file_extension": ".py",
   "mimetype": "text/x-python",
   "name": "python",
   "nbconvert_exporter": "python",
   "pygments_lexer": "ipython3",
   "version": "3.11.5"
  }
 },
 "nbformat": 4,
 "nbformat_minor": 5
}
